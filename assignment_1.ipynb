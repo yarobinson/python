{
 "cells": [
  {
   "cell_type": "code",
   "execution_count": 1,
   "metadata": {},
   "outputs": [],
   "source": [
    "# Anagram Checker"
   ]
  },
  {
   "cell_type": "code",
   "execution_count": 29,
   "metadata": {},
   "outputs": [],
   "source": [
    "#Anagram Checker\n",
    "def anagram_checker(word_a, word_b):\n",
    "    if sorted(str.lower(word_a)) == sorted(str.lower(word_b)): \n",
    "        return(\"True\")\n",
    "    else:\n",
    "        return(\"False\")"
   ]
  },
  {
   "cell_type": "code",
   "execution_count": 30,
   "metadata": {},
   "outputs": [
    {
     "name": "stdout",
     "output_type": "stream",
     "text": [
      "True\n"
     ]
    }
   ],
   "source": [
    "anagram_checker(\"Silent\",\"listen\")"
   ]
  },
  {
   "cell_type": "code",
   "execution_count": 31,
   "metadata": {},
   "outputs": [
    {
     "name": "stdout",
     "output_type": "stream",
     "text": [
      "False\n"
     ]
    }
   ],
   "source": [
    "anagram_checker(\"Silent\",\"Night\")"
   ]
  },
  {
   "cell_type": "code",
   "execution_count": 32,
   "metadata": {},
   "outputs": [
    {
     "name": "stdout",
     "output_type": "stream",
     "text": [
      "True\n"
     ]
    }
   ],
   "source": [
    "anagram_checker(\"night\", \"Thing\")"
   ]
  },
  {
   "cell_type": "code",
   "execution_count": 46,
   "metadata": {},
   "outputs": [],
   "source": [
    "#Anagram checker with case sensitive functionality\n",
    "def anagram_checker(word_a, word_b, is_case_sensitive): \n",
    "    if is_case_sensitive == False: \n"
    "        if sorted(str.lower(word_a)) == sorted(str.lower(word_b)): \n",
    "          return(\"True\")\n",
    "       else: \n"
    "       return(\"False\")\n",
    "\n",
    "    elif is_case_sensitive == True: \n",
    "        if sorted(word_a) == sorted(word_b)):\n",
    "            return(\"True\")\n",
    "    else:\n",
    "        return(\"False\")\n",
    "        \n",
   ]
  },
  {
   "cell_type": "code",
   "execution_count": 47,
   "metadata": {},
   "outputs": [
    {
     "name": "stdout",
     "output_type": "stream",
     "text": [
      "True\n"
     ]
    }
   ],
   "source": [
    "anagram_checker(\"Silent\", \"listen\", False)"
   ]
  },
  {
   "cell_type": "code",
   "execution_count": 48,
   "metadata": {},
   "outputs": [
    {
     "name": "stdout",
     "output_type": "stream",
     "text": [
      "False\n"
     ]
    }
   ],
   "source": [
    "anagram_checker(\"Silent\", \"Listen\", True)"
   ]
  }
 ],
 "metadata": {
  "kernelspec": {
   "display_name": "dsi_participant",
   "language": "python",
   "name": "python3"
  },
  "language_info": {
   "codemirror_mode": {
    "name": "ipython",
    "version": 3
   },
   "file_extension": ".py",
   "mimetype": "text/x-python",
   "name": "python",
   "nbconvert_exporter": "python",
   "pygments_lexer": "ipython3",
   "version": "3.9.18"
  }
 },
 "nbformat": 4,
 "nbformat_minor": 2
}
